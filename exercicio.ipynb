{
 "cells": [
  {
   "cell_type": "markdown",
   "metadata": {},
   "source": [
    "**Usuários do Facebook, Twitter e LinkedIn.** Depois de anos de crescimento explosivo do número de usuários dos sites das redes sociais em todas as faixas etárias e demográficas, é difícil dizer que as redes sociais não mudaram para sempre como nos conectamos e integragimos *online*. Embora Facebook continue sendo o líder nas redes sociais, Twitter e LinkedIn continuam a expandir seu uso.\n",
    "\n",
    "Eis a distribuição por idade dos usuários dos três sites em 2013:\n",
    "\n",
    "| **GRUPO DE IDADE** | **USUÁRIOS DO FACEBOOK** | **USUÁRIOS DO TWITTER** | **USUÁRIOS DO LINKEDIN** |\n",
    "| -------------------| -------------------------| ------------------------| -------------------------|\n",
    "| 13 a 17 anos       | 10%                      | 10%                     | 4%                       |\n",
    "| 18 a 24 anos       | 14%                      | 18%                     | 10%                      |\n",
    "| 25 a 34 anos       | 19%                      | 22%                     | 20%                      |\n",
    "| 35 a 44 anos       | 17%                      | 17%                     | 18%                      |\n",
    "| 45 a 54 anos       | 17%                      | 15%                     | 20%                      |\n",
    "| 55 a 64 anos       | 13%                      | 11%                     | 17%                      |\n",
    "| Acima de 65 anos   | 10%                      | 7%                      | 11%                      |  \n",
    "\n",
    "\n",
    "(a) Desenhe um gráfico de barras da distribuição de idade dos usuários do Facebook. A barra mais à esquerda deve corresponder a \"13 a 17\", a seguinte a \"18 e 24\", e assim por diante. Faça o mesmo para os usuários do Twitter e LinkedIn, usando a mesma escala para o eixo dos percentuais.\n",
    "\n",
    "(b) Descreva a diferença mais importante na distribuição de idade dos usuários dos três tipos de rede social. Como essa diferença aparece nos gráficos de barras? Você acha que foi importante ordenar as barras por idade para tornar mais fácil a comparação? Por quê? \n",
    "\n",
    "(c) Explique por que é apropiado o uso de um gráfico de setores para exibir qualquer uma dessas distribuições. Faça um gráfico de setores para cada distribuição. Você acha mais fácil a comparação com gráficos de barras ou de setores? Explique seu raciocínio."
   ]
  },
  {
   "cell_type": "markdown",
   "metadata": {},
   "source": []
  },
  {
   "cell_type": "markdown",
   "metadata": {},
   "source": [
    "\n",
    "\n",
    "\n",
    "**Marijuana e acidentes de trânsito.** Pesquisadores na Nova Zelância estrevistaram 907 motoristas com 21 anos. Eles tinham dados sobre acidentes de trânsito e perguntaram sobre o uso de marijuana. O quadro mostra os dados dos números de acidentes causados por esses motoristas aos 19 anos, classificados segundo o uso de marijuana na mesma idade.\n",
    "\n",
    "##### USO DE MARIJUANA POR ANO\n",
    "\n",
    "| | **NUNCA** | **1-10 VEZES** | **11-50 VEZES** | **51+ VEZES** |\n",
    "|-| --------- | -------------- | --------------- | --------------|\n",
    "| Acidentes provocados | 59 | 36 | 15 | 50 |\n",
    "| Motoristas           |452 | 229| 70 |156 |\n",
    "\n",
    "(a) Explique cuidadosamente por que um gráfico útil deve comparar taxas(acidentes por motorista) em vez de contagem de acidentes nas quatro classes de uso do marijuana.\n",
    "\n",
    "(b) Calcule as taxas de acidentes nas quatro classes de uso de marijuana. Depois de feito isso, construa um gráfico mostrando a taxa de acidentes para cada classe. O que você conclui? (Você não pode concluir que o uso de marijuana causa acidentes, pois quem assume riscos tem maior change tanto de dirigir agressivamente como de usar marijuana.)"
   ]
  }
 ],
 "metadata": {
  "kernelspec": {
   "display_name": "Python 3",
   "language": "python",
   "name": "python3"
  },
  "language_info": {
   "codemirror_mode": {
    "name": "ipython",
    "version": 3
   },
   "file_extension": ".py",
   "mimetype": "text/x-python",
   "name": "python",
   "nbconvert_exporter": "python",
   "pygments_lexer": "ipython3",
   "version": "3.6.5"
  }
 },
 "nbformat": 4,
 "nbformat_minor": 2
}
